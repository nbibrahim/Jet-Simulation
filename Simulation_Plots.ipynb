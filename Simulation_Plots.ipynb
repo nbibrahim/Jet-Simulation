{
 "cells": [
  {
   "cell_type": "markdown",
   "id": "f36d0fee",
   "metadata": {},
   "source": [
    "### Zero Viscosity Case"
   ]
  },
  {
   "cell_type": "code",
   "execution_count": null,
   "id": "ed4076b4",
   "metadata": {},
   "outputs": [],
   "source": [
    "import numpy as np\n",
    "import os\n",
    "import matplotlib.pyplot as plt\n",
    "import scipy.io"
   ]
  },
  {
   "cell_type": "code",
   "execution_count": null,
   "id": "401ae70d",
   "metadata": {},
   "outputs": [],
   "source": [
    "path1 = '/Users/josephfitzgerald/Dropbox/EDJ_Paper_Draft/Code_and_Data_NewSub/Planning_Final_NewFig_Calculations/Zero_Rayleigh_drag/ZeroRayleigh_N512_1xnu_t00_to_t15/'\n",
    "path2 = '/Users/josephfitzgerald/Dropbox/EDJ_Paper_Draft/Code_and_Data_NewSub/Planning_Final_NewFig_Calculations/Zero_Rayleigh_drag/ZeroRayleigh_N512_1xnu_t15_to_t30_new/'\n",
    "path3 = '/Users/josephfitzgerald/Dropbox/EDJ_Paper_Draft/Code_and_Data_NewSub/Planning_Final_NewFig_Calculations/Zero_Rayleigh_drag/ZeroRayleigh_N512_1xnu_t30_to_t45/'\n",
    "path4 = '/Users/josephfitzgerald/Dropbox/EDJ_Paper_Draft/Code_and_Data_NewSub/Planning_Final_NewFig_Calculations/Zero_Rayleigh_drag/ZeroRayleigh_N512_1xnu_t45_to_t60/'\n",
    "\n",
    "file_name_1 = 'DNL_IRFZ_N512_noray_eps0p50_1xnu_Nsq1E3_dt0p001_t00_to_t15.mat'\n",
    "file_name_2 = 'DNL_IRFZ_N512_noray_eps0p50_1xnu_Nsq1E3_dt0p0005_t15_to_t30.mat'\n",
    "file_name_3 = 'DNL_IRFZ_N512_noray_eps0p50_1xnu_Nsq1E3_dt0p0005_t30_to_t45.mat'\n",
    "file_name_4 = 'DNL_IRFZ_N512_noray_eps0p50_1xnu_Nsq1E3_dt0p0005_t45_to_t60.mat'\n",
    "\n",
    "path_list = [path1,path2,path3,path4]\n",
    "file_name_list = [file_name_1,file_name_2,file_name_3,file_name_4]"
   ]
  },
  {
   "cell_type": "code",
   "execution_count": null,
   "id": "80bb62c0",
   "metadata": {},
   "outputs": [],
   "source": [
    "U1 = np.zeros((515,515,15,4))\n",
    "U2 = np.zeros((515,515,15,4))"
   ]
  },
  {
   "cell_type": "code",
   "execution_count": null,
   "id": "c4cc5839",
   "metadata": {},
   "outputs": [],
   "source": [
    "for i in np.arange(len(path_list)):\n",
    "\n",
    "    path = path_list[i]\n",
    "    file_name = file_name_list[i]\n",
    "    \n",
    "    os.chdir(path)\n",
    "\n",
    "    NL_state = scipy.io.loadmat(file_name)\n",
    "\n",
    "    U1[:,:,:,i] = NL_state['U1_save']\n",
    "    U2[:,:,:,i] = NL_state['U2_save']\n",
    "    ddx_phys = NL_state['ddx_phys']\n",
    "    ddy_phys = NL_state['ddy_phys']\n",
    "    TIME_save_flow = NL_state['TIME_save_flow'] \n",
    "    \n",
    "    print(i)"
   ]
  },
  {
   "cell_type": "code",
   "execution_count": null,
   "id": "1e9620c3",
   "metadata": {},
   "outputs": [],
   "source": [
    "# Assuming U1 has shape (515, 515, 15, 4)\n",
    "# Create a 4D array with the first time chunk (excluding the last time step)\n",
    "U1_full = U1[:, :, :-1, 0]\n",
    "U2_full = U2[:, :, :-1, 0]\n",
    "\n",
    "# Concatenate the remaining time chunks along the time dimension\n",
    "for i in range(1, 4):  # Assuming you have 4 time chunks\n",
    "    U1_full = np.concatenate((U1_full, U1[:, :, :-1, i]), axis=2)\n",
    "    U2_full = np.concatenate((U2_full, U2[:, :, :-1, i]), axis=2)\n",
    "\n",
    "# Now, concatenated_data has the shape (515, 515, 44), eliminating the redundant overlap\n"
   ]
  },
  {
   "cell_type": "code",
   "execution_count": null,
   "id": "f33a773b",
   "metadata": {},
   "outputs": [],
   "source": [
    "Z_timeseries = np.zeros((512,512,U1_full.shape[2]))\n",
    "\n",
    "for i in np.arange(U1_full.shape[2]):\n",
    "    Z_timeseries[:,:,i] = ddx_phys @ U2_full[:512,:512,i] - U1_full[:512,:512,i] @ np.transpose(ddy_phys)\n",
    "    \n",
    "    print(i)\n",
    "\n",
    "#Z_final = ddx_phys @ U2_save[:512,:512,-1] - U1_save[:512,:512,-1] @ np.transpose(ddy_phys)"
   ]
  },
  {
   "cell_type": "code",
   "execution_count": null,
   "id": "c382f170",
   "metadata": {},
   "outputs": [],
   "source": [
    "x = np.linspace(0,1,512)\n",
    "z = np.linspace(0,1,512)\n",
    "plt.pcolor(x,z,np.transpose(Z_timeseries[:,:,-1]),cmap='RdBu')\n",
    "plt.colorbar()"
   ]
  },
  {
   "cell_type": "code",
   "execution_count": null,
   "id": "d7e01e22",
   "metadata": {},
   "outputs": [],
   "source": [
    "from matplotlib.animation import FuncAnimation\n",
    "\n",
    "%matplotlib tk\n",
    "fig, ax = plt.subplots(figsize=(8, 6))\n",
    "ax.set(xlim=(0, 1), ylim=(0, 1))\n",
    "\n",
    "Zmax = .5*np.max(np.abs(Z_timeseries))\n",
    "\n",
    "cax = ax.pcolormesh(x, z, np.transpose(Z_timeseries[:-1,:-1,0]),vmin=-Zmax, vmax=Zmax, cmap='RdBu_r')\n",
    "#fig.colorbar(cax)\n",
    "plt.xlabel('x',fontsize='15')\n",
    "plt.ylabel('z',fontsize='15')\n",
    "plt.title('$\\zeta$',fontsize='15')\n",
    "\n",
    "def animate(i):\n",
    "     cax.set_array(np.transpose(Z_timeseries[:-1,:-1,i]).flatten())\n",
    "\n",
    "anim = FuncAnimation(\n",
    "    fig, animate, interval=200, frames=Z_timeseries.shape[2]-1)\n",
    " \n",
    "plt.draw()\n",
    "plt.show()\n",
    "\n",
    "#anim.save('q_movie_1xeps.gif')"
   ]
  },
  {
   "cell_type": "markdown",
   "id": "eb081459",
   "metadata": {},
   "source": [
    "### Standard case N=256 test"
   ]
  },
  {
   "cell_type": "code",
   "execution_count": null,
   "id": "8dcb8d51",
   "metadata": {},
   "outputs": [],
   "source": [
    "import numpy as np\n",
    "import os\n",
    "import matplotlib.pyplot as plt\n",
    "import scipy.io"
   ]
  },
  {
   "cell_type": "code",
   "execution_count": null,
   "id": "4f69adfd",
   "metadata": {},
   "outputs": [],
   "source": [
    "path = '/Users/josephfitzgerald/Dropbox/EDJ_Paper_Draft/Code_and_Data_NewSub/Standard_Case_N256_Dev/'\n",
    "\n",
    "file_name = 'DNL_IRFZ_N256_eps0p25_Nsq1E3_dt0p004_4xnu_t60.mat'"
   ]
  },
  {
   "cell_type": "code",
   "execution_count": null,
   "id": "62472de5",
   "metadata": {},
   "outputs": [],
   "source": [
    "os.chdir(path)\n",
    "\n",
    "NL_state = scipy.io.loadmat(file_name)\n",
    "\n",
    "U1 = NL_state['U1_save']\n",
    "U2 = NL_state['U2_save']\n",
    "ddx_phys = NL_state['ddx_phys']\n",
    "ddy_phys = NL_state['ddy_phys']\n",
    "TIME_save_flow = NL_state['TIME_save_flow'] \n"
   ]
  },
  {
   "cell_type": "code",
   "execution_count": null,
   "id": "d2d0e6f1",
   "metadata": {},
   "outputs": [],
   "source": [
    "Z_timeseries = np.zeros((256,256,U1.shape[2]))\n",
    "\n",
    "for i in np.arange(U1.shape[2]):\n",
    "    Z_timeseries[:,:,i] = ddx_phys @ U2[:256,:256,i] - U1[:256,:256,i] @ np.transpose(ddy_phys)\n",
    "    \n",
    "    print(i)\n",
    "\n",
    "#Z_final = ddx_phys @ U2_save[:512,:512,-1] - U1_save[:512,:512,-1] @ np.transpose(ddy_phys)"
   ]
  },
  {
   "cell_type": "code",
   "execution_count": null,
   "id": "ad771c65",
   "metadata": {},
   "outputs": [],
   "source": [
    "x = np.linspace(0,1,256)\n",
    "z = np.linspace(0,1,256)\n",
    "plt.pcolor(x,z,np.transpose(Z_timeseries[:,:,-1]),cmap='RdBu')\n",
    "plt.colorbar()"
   ]
  },
  {
   "cell_type": "code",
   "execution_count": null,
   "id": "d8414a69",
   "metadata": {},
   "outputs": [],
   "source": [
    "from matplotlib.animation import FuncAnimation\n",
    "\n",
    "%matplotlib tk\n",
    "fig, ax = plt.subplots(figsize=(8, 6))\n",
    "ax.set(xlim=(0, 1), ylim=(0, 1))\n",
    "\n",
    "Zmax = .5*np.max(np.abs(Z_timeseries))\n",
    "\n",
    "cax = ax.pcolormesh(x, z, np.transpose(Z_timeseries[:-1,:-1,0]),vmin=-Zmax, vmax=Zmax, cmap='RdBu_r')\n",
    "#fig.colorbar(cax)\n",
    "plt.xlabel('x',fontsize='15')\n",
    "plt.ylabel('z',fontsize='15')\n",
    "plt.title('$\\zeta$',fontsize='15')\n",
    "\n",
    "def animate(i):\n",
    "     cax.set_array(np.transpose(Z_timeseries[:-1,:-1,i]).flatten())\n",
    "\n",
    "anim = FuncAnimation(\n",
    "    fig, animate, interval=200, frames=Z_timeseries.shape[2]-1)\n",
    " \n",
    "plt.draw()\n",
    "plt.show()\n",
    "\n",
    "#anim.save('q_movie_1xeps.gif')"
   ]
  },
  {
   "cell_type": "code",
   "execution_count": null,
   "id": "8e82fb85",
   "metadata": {},
   "outputs": [],
   "source": [
    "plt.close('all')"
   ]
  },
  {
   "cell_type": "markdown",
   "id": "4df75497",
   "metadata": {},
   "source": [
    "### Nsq = 100 Case"
   ]
  },
  {
   "cell_type": "code",
   "execution_count": 1,
   "id": "50fc4ed2",
   "metadata": {},
   "outputs": [],
   "source": [
    "import numpy as np\n",
    "import os\n",
    "import matplotlib.pyplot as plt\n",
    "import scipy.io"
   ]
  },
  {
   "cell_type": "code",
   "execution_count": 2,
   "id": "54682dd9",
   "metadata": {},
   "outputs": [],
   "source": [
    "path1 = '/Users/josephfitzgerald/Dropbox/EDJ_Paper_Draft/Code_and_Data_NewSub/Planning_Final_NewFig_Calculations/Nsq_100/Nsq_100_N512_t00_to_t15'\n",
    "path2 = '/Users/josephfitzgerald/Dropbox/EDJ_Paper_Draft/Code_and_Data_NewSub/Planning_Final_NewFig_Calculations/Nsq_100/Nsq_100_N512_t15_to_t30'\n",
    "path3 = '/Users/josephfitzgerald/Dropbox/EDJ_Paper_Draft/Code_and_Data_NewSub/Planning_Final_NewFig_Calculations/Nsq_100/Nsq_100_N512_t30_to_t45'\n",
    "path4 = '/Users/josephfitzgerald/Dropbox/EDJ_Paper_Draft/Code_and_Data_NewSub/Planning_Final_NewFig_Calculations/Nsq_100/Nsq_100_N512_t45_to_t60'\n",
    "\n",
    "file_name_1 = 'DNL_IRFZ_N512_kf6x2pi_eps0p015_Nsq100_1xnu_dt0p001_t00_to_t15.mat'\n",
    "file_name_2 = 'DNL_IRFZ_N512_kf6x2pi_eps0p015_Nsq100_1xnu_dt0p001_t15_to_t30.mat'\n",
    "file_name_3 = 'DNL_IRFZ_N512_kf6x2pi_eps0p015_Nsq100_1xnu_dt0p001_t30_to_t45.mat'\n",
    "file_name_4 = 'DNL_IRFZ_N512_kf6x2pi_eps0p015_Nsq100_1xnu_dt0p001_t45_to_t60.mat'\n",
    "\n",
    "path_list = [path1,path2,path3,path4]\n",
    "file_name_list = [file_name_1,file_name_2,file_name_3,file_name_4]"
   ]
  },
  {
   "cell_type": "code",
   "execution_count": 3,
   "id": "d76c002b",
   "metadata": {},
   "outputs": [],
   "source": [
    "U1 = np.zeros((515,515,15,4))\n",
    "U2 = np.zeros((515,515,15,4))"
   ]
  },
  {
   "cell_type": "code",
   "execution_count": 4,
   "id": "292b6dd5",
   "metadata": {},
   "outputs": [
    {
     "name": "stdout",
     "output_type": "stream",
     "text": [
      "0\n",
      "1\n",
      "2\n",
      "3\n"
     ]
    }
   ],
   "source": [
    "for i in np.arange(len(path_list)):\n",
    "\n",
    "    path = path_list[i]\n",
    "    file_name = file_name_list[i]\n",
    "    \n",
    "    os.chdir(path)\n",
    "\n",
    "    NL_state = scipy.io.loadmat(file_name)\n",
    "\n",
    "    U1[:,:,:,i] = NL_state['U1_save']\n",
    "    U2[:,:,:,i] = NL_state['U2_save']\n",
    "    ddx_phys = NL_state['ddx_phys']\n",
    "    ddy_phys = NL_state['ddy_phys']\n",
    "    TIME_save_flow = NL_state['TIME_save_flow'] \n",
    "    \n",
    "    print(i)"
   ]
  },
  {
   "cell_type": "code",
   "execution_count": 5,
   "id": "343f0036",
   "metadata": {},
   "outputs": [],
   "source": [
    "# Assuming U1 has shape (515, 515, 15, 4)\n",
    "# Create a 4D array with the first time chunk (excluding the last time step)\n",
    "U1_full = U1[:, :, :-1, 0]\n",
    "U2_full = U2[:, :, :-1, 0]\n",
    "\n",
    "# Concatenate the remaining time chunks along the time dimension\n",
    "for i in range(1, 4):  # Assuming you have 4 time chunks\n",
    "    U1_full = np.concatenate((U1_full, U1[:, :, :-1, i]), axis=2)\n",
    "    U2_full = np.concatenate((U2_full, U2[:, :, :-1, i]), axis=2)\n",
    "\n",
    "# Now, concatenated_data has the shape (515, 515, 44), eliminating the redundant overlap"
   ]
  },
  {
   "cell_type": "code",
   "execution_count": 6,
   "id": "71baf2f0",
   "metadata": {},
   "outputs": [
    {
     "name": "stdout",
     "output_type": "stream",
     "text": [
      "0\n",
      "1\n",
      "2\n",
      "3\n",
      "4\n",
      "5\n",
      "6\n",
      "7\n",
      "8\n",
      "9\n",
      "10\n",
      "11\n",
      "12\n",
      "13\n",
      "14\n",
      "15\n",
      "16\n",
      "17\n",
      "18\n",
      "19\n",
      "20\n",
      "21\n",
      "22\n",
      "23\n",
      "24\n",
      "25\n",
      "26\n",
      "27\n",
      "28\n",
      "29\n",
      "30\n",
      "31\n",
      "32\n",
      "33\n",
      "34\n",
      "35\n",
      "36\n",
      "37\n",
      "38\n",
      "39\n",
      "40\n",
      "41\n",
      "42\n",
      "43\n",
      "44\n",
      "45\n",
      "46\n",
      "47\n",
      "48\n",
      "49\n",
      "50\n",
      "51\n",
      "52\n",
      "53\n",
      "54\n",
      "55\n"
     ]
    }
   ],
   "source": [
    "Z_timeseries = np.zeros((512,512,U1_full.shape[2]))\n",
    "\n",
    "for i in np.arange(U1_full.shape[2]):\n",
    "    Z_timeseries[:,:,i] = ddx_phys @ U2_full[:512,:512,i] - U1_full[:512,:512,i] @ np.transpose(ddy_phys)\n",
    "    \n",
    "    print(i)\n",
    "\n",
    "#Z_final = ddx_phys @ U2_save[:512,:512,-1] - U1_save[:512,:512,-1] @ np.transpose(ddy_phys)"
   ]
  },
  {
   "cell_type": "code",
   "execution_count": 8,
   "id": "638aada7",
   "metadata": {},
   "outputs": [
    {
     "name": "stderr",
     "output_type": "stream",
     "text": [
      "<ipython-input-8-603092c65d98>:3: MatplotlibDeprecationWarning: shading='flat' when X and Y have the same dimensions as C is deprecated since 3.3.  Either specify the corners of the quadrilaterals with X and Y, or pass shading='auto', 'nearest' or 'gouraud', or set rcParams['pcolor.shading'].  This will become an error two minor releases later.\n",
      "  plt.pcolor(x,z,np.transpose(Z_timeseries[:,:,-1]),cmap='RdBu')\n"
     ]
    },
    {
     "data": {
      "text/plain": [
       "<matplotlib.colorbar.Colorbar at 0x7fe8ac3330d0>"
      ]
     },
     "execution_count": 8,
     "metadata": {},
     "output_type": "execute_result"
    }
   ],
   "source": [
    "x = np.linspace(0,1,512)\n",
    "z = np.linspace(0,1,512)\n",
    "plt.pcolor(x,z,np.transpose(Z_timeseries[:,:,-1]),cmap='RdBu')\n",
    "plt.colorbar()"
   ]
  },
  {
   "cell_type": "code",
   "execution_count": 9,
   "id": "a55eecc4",
   "metadata": {},
   "outputs": [],
   "source": [
    "from matplotlib.animation import FuncAnimation\n",
    "\n",
    "%matplotlib tk\n",
    "fig, ax = plt.subplots(figsize=(8, 6))\n",
    "ax.set(xlim=(0, 1), ylim=(0, 1))\n",
    "\n",
    "Zmax = .5*np.max(np.abs(Z_timeseries))\n",
    "\n",
    "cax = ax.pcolormesh(x, z, np.transpose(Z_timeseries[:-1,:-1,0]),vmin=-Zmax, vmax=Zmax, cmap='RdBu_r')\n",
    "#fig.colorbar(cax)\n",
    "plt.xlabel('x',fontsize='15')\n",
    "plt.ylabel('z',fontsize='15')\n",
    "plt.title('$\\zeta$',fontsize='15')\n",
    "\n",
    "def animate(i):\n",
    "     cax.set_array(np.transpose(Z_timeseries[:-1,:-1,i]).flatten())\n",
    "\n",
    "anim = FuncAnimation(\n",
    "    fig, animate, interval=200, frames=Z_timeseries.shape[2]-1)\n",
    " \n",
    "plt.draw()\n",
    "plt.show()\n",
    "\n",
    "#anim.save('q_movie_1xeps.gif')"
   ]
  },
  {
   "cell_type": "code",
   "execution_count": 10,
   "id": "6762cd58",
   "metadata": {},
   "outputs": [],
   "source": [
    "plt.close('all')"
   ]
  },
  {
   "cell_type": "code",
   "execution_count": null,
   "id": "c2f0507a",
   "metadata": {},
   "outputs": [],
   "source": []
  },
  {
   "cell_type": "code",
   "execution_count": null,
   "id": "c1bcd53a",
   "metadata": {},
   "outputs": [],
   "source": []
  },
  {
   "cell_type": "code",
   "execution_count": null,
   "id": "faf81d78",
   "metadata": {},
   "outputs": [],
   "source": []
  },
  {
   "cell_type": "code",
   "execution_count": null,
   "id": "e657455f",
   "metadata": {},
   "outputs": [],
   "source": []
  },
  {
   "cell_type": "code",
   "execution_count": null,
   "id": "21667d52",
   "metadata": {},
   "outputs": [],
   "source": []
  },
  {
   "cell_type": "code",
   "execution_count": null,
   "id": "c84178a3",
   "metadata": {},
   "outputs": [],
   "source": []
  },
  {
   "cell_type": "code",
   "execution_count": null,
   "id": "b4a37b82",
   "metadata": {},
   "outputs": [],
   "source": []
  },
  {
   "cell_type": "code",
   "execution_count": null,
   "id": "2dbc4939",
   "metadata": {},
   "outputs": [],
   "source": [
    "\n",
    "# Load .mat file\n",
    "mat_data = scipy.io.loadmat('DNL_IRFZ_N512_kf6x2pi_eps0p015_Nsq100_1xnu_dt0p001_t45_to_t60_diagnostics.mat')\n",
    "\n",
    "# Access variables in the dictionary\n",
    "#variable_name = 'your_variable_name'\n",
    "#data = mat_data[variable_name]\n",
    "\n",
    "# Now 'data' contains the content of the variable from the .mat file\n"
   ]
  },
  {
   "cell_type": "code",
   "execution_count": null,
   "id": "885818a0",
   "metadata": {},
   "outputs": [],
   "source": [
    "print(mat_data.keys())"
   ]
  },
  {
   "cell_type": "code",
   "execution_count": null,
   "id": "6a2a2666",
   "metadata": {},
   "outputs": [],
   "source": [
    "SET_QL = mat_data['SET_QL']\n",
    "print(SET_QL)"
   ]
  },
  {
   "cell_type": "code",
   "execution_count": null,
   "id": "0c33d7cc",
   "metadata": {},
   "outputs": [],
   "source": [
    "ubar = mat_data['ubar']\n",
    "print(ubar)"
   ]
  },
  {
   "cell_type": "code",
   "execution_count": null,
   "id": "902266f1",
   "metadata": {},
   "outputs": [],
   "source": [
    "TIME_save_flow = mat_data['TIME_save_flow']\n",
    "print(TIME_save_flow)"
   ]
  },
  {
   "cell_type": "code",
   "execution_count": null,
   "id": "ffb828c4",
   "metadata": {},
   "outputs": [],
   "source": [
    "K_mean = mat_data['K_mean']\n",
    "print(K_mean)"
   ]
  },
  {
   "cell_type": "code",
   "execution_count": null,
   "id": "170867eb",
   "metadata": {},
   "outputs": [],
   "source": [
    "K_prime.shape\n",
    "TIME_save_flow.shape"
   ]
  },
  {
   "cell_type": "code",
   "execution_count": null,
   "id": "23b3b6f0",
   "metadata": {},
   "outputs": [],
   "source": [
    "K_prime = mat_data['K_prime']\n",
    "print(K_prime)"
   ]
  },
  {
   "cell_type": "code",
   "execution_count": null,
   "id": "78ffe5a7",
   "metadata": {},
   "outputs": [],
   "source": [
    "plt.plot(np.transpose(TIME_save_flow),K_prime,'-r')\n",
    "plt.plot(np.transpose(TIME_save_flow),K_mean,'-b')"
   ]
  },
  {
   "cell_type": "code",
   "execution_count": null,
   "id": "8690d3a7",
   "metadata": {},
   "outputs": [],
   "source": [
    "ubar.shape"
   ]
  },
  {
   "cell_type": "code",
   "execution_count": null,
   "id": "cf94a521",
   "metadata": {},
   "outputs": [],
   "source": [
    "z = np.linspace(0,1,512)"
   ]
  },
  {
   "cell_type": "code",
   "execution_count": null,
   "id": "6177bd37",
   "metadata": {},
   "outputs": [],
   "source": [
    "plt.plot(ubar[:,-1],z,'-ob')"
   ]
  },
  {
   "cell_type": "code",
   "execution_count": null,
   "id": "f1b2db39",
   "metadata": {},
   "outputs": [],
   "source": [
    "plt.pcolor(TIME_save_flow,z,ubar)"
   ]
  },
  {
   "cell_type": "code",
   "execution_count": null,
   "id": "f982904a",
   "metadata": {},
   "outputs": [],
   "source": [
    "os.chdir('Nsq_100_N512_t45_to_t60/')"
   ]
  },
  {
   "cell_type": "code",
   "execution_count": null,
   "id": "f68046a8",
   "metadata": {},
   "outputs": [],
   "source": [
    "%ls"
   ]
  },
  {
   "cell_type": "code",
   "execution_count": null,
   "id": "b78bfdac",
   "metadata": {},
   "outputs": [],
   "source": [
    "NL_state = scipy.io.loadmat('DNL_IRFZ_N512_kf6x2pi_eps0p015_Nsq100_1xnu_dt0p001_t45_to_t60.mat')"
   ]
  },
  {
   "cell_type": "code",
   "execution_count": null,
   "id": "eb9ddc57",
   "metadata": {},
   "outputs": [],
   "source": [
    "print(NL_state.keys())"
   ]
  },
  {
   "cell_type": "code",
   "execution_count": null,
   "id": "e0aa8b54",
   "metadata": {},
   "outputs": [],
   "source": [
    "U1_save = NL_state['U1_save']\n",
    "U2_save = NL_state['U2_save']\n",
    "ddx_phys = NL_state['ddx_phys']\n",
    "ddy_phys = NL_state['ddy_phys']"
   ]
  },
  {
   "cell_type": "code",
   "execution_count": null,
   "id": "e7977967",
   "metadata": {},
   "outputs": [],
   "source": [
    "TIME_save_flow.shape[1]"
   ]
  },
  {
   "cell_type": "code",
   "execution_count": null,
   "id": "3fcbe880",
   "metadata": {},
   "outputs": [],
   "source": [
    "Z_timeseries = np.zeros((512,512,15))\n",
    "\n",
    "for i in np.arange(TIME_save_flow.shape[1]):\n",
    "    Z_timeseries[:,:,i] = ddx_phys @ U2_save[:512,:512,i] - U1_save[:512,:512,i] @ np.transpose(ddy_phys)\n",
    "\n",
    "#Z_final = ddx_phys @ U2_save[:512,:512,-1] - U1_save[:512,:512,-1] @ np.transpose(ddy_phys)"
   ]
  },
  {
   "cell_type": "code",
   "execution_count": null,
   "id": "2368883e",
   "metadata": {},
   "outputs": [],
   "source": [
    "x = np.linspace(0,1,512)\n",
    "x = np.linspace(0,1,512)\n",
    "plt.pcolor(x,z,np.transpose(Z_final),cmap='RdBu')\n",
    "plt.colorbar()"
   ]
  },
  {
   "cell_type": "code",
   "execution_count": null,
   "id": "2a14d386",
   "metadata": {},
   "outputs": [],
   "source": [
    "from matplotlib.animation import FuncAnimation\n",
    "\n",
    "%matplotlib tk\n",
    "fig, ax = plt.subplots(figsize=(8, 6))\n",
    "ax.set(xlim=(0, 1), ylim=(0, 1))\n",
    "\n",
    "Zmax = 1*np.max(np.abs(Z_timeseries))\n",
    "\n",
    "cax = ax.pcolormesh(x, z, np.transpose(Z_timeseries[:-1,:-1,0]),vmin=-Zmax, vmax=Zmax, cmap='RdBu_r')\n",
    "#fig.colorbar(cax)\n",
    "plt.xlabel('x',fontsize='15')\n",
    "plt.ylabel('z',fontsize='15')\n",
    "plt.title('$\\zeta$',fontsize='15')\n",
    "\n",
    "def animate(i):\n",
    "     cax.set_array(np.transpose(Z_timeseries[:-1,:-1,i]).flatten())\n",
    "\n",
    "anim = FuncAnimation(\n",
    "    fig, animate, interval=200, frames=TIME_save_flow.shape[1]-1)\n",
    " \n",
    "plt.draw()\n",
    "plt.show()\n",
    "\n",
    "#anim.save('q_movie_1xeps.gif')"
   ]
  },
  {
   "cell_type": "code",
   "execution_count": null,
   "id": "38ccaf31",
   "metadata": {},
   "outputs": [],
   "source": [
    "plt.close('all')"
   ]
  },
  {
   "cell_type": "code",
   "execution_count": null,
   "id": "7702cf51",
   "metadata": {},
   "outputs": [],
   "source": [
    "U2_save[inds,np.transpose(inds),-1].shape"
   ]
  },
  {
   "cell_type": "code",
   "execution_count": null,
   "id": "d416a29e",
   "metadata": {},
   "outputs": [],
   "source": [
    "inds = np.arange(0,512)\n",
    "U2_save[inds,inds,-1].shape"
   ]
  },
  {
   "cell_type": "code",
   "execution_count": null,
   "id": "a2c8964c",
   "metadata": {},
   "outputs": [],
   "source": [
    "inds"
   ]
  },
  {
   "cell_type": "code",
   "execution_count": null,
   "id": "5d6d7e16",
   "metadata": {},
   "outputs": [],
   "source": [
    "ddx_phys"
   ]
  },
  {
   "cell_type": "code",
   "execution_count": null,
   "id": "7c499e6a",
   "metadata": {},
   "outputs": [],
   "source": [
    "ddy_phys"
   ]
  },
  {
   "cell_type": "code",
   "execution_count": null,
   "id": "135ef00f",
   "metadata": {},
   "outputs": [],
   "source": [
    "plt.pcolor(np.transpose(U1_save[0:511,0:511,-1]))"
   ]
  },
  {
   "cell_type": "code",
   "execution_count": null,
   "id": "9de2fe94",
   "metadata": {},
   "outputs": [],
   "source": [
    "plt.plot(U1_save[:,10,-1],'-o')"
   ]
  },
  {
   "cell_type": "code",
   "execution_count": null,
   "id": "dea7b5a4",
   "metadata": {},
   "outputs": [],
   "source": [
    "print(U1_save[0,10,-1])\n",
    "print(U1_save[1,10,-1])\n",
    "print(U1_save[2,10,-1])\n",
    "print(U1_save[-3,10,-1])\n",
    "print(U1_save[-2,10,-1])\n",
    "print(U1_save[-1,10,-1])\n",
    "\n",
    "# so 0,1,2 are the same as 512,513,514"
   ]
  },
  {
   "cell_type": "code",
   "execution_count": null,
   "id": "dfe08296",
   "metadata": {},
   "outputs": [],
   "source": [
    "print(U1_save[0,10,-1])\n",
    "print(U1_save[511,10,-1])"
   ]
  },
  {
   "cell_type": "code",
   "execution_count": null,
   "id": "328dce5a",
   "metadata": {},
   "outputs": [],
   "source": [
    "np.shape(U1_save[0:512,:,:])"
   ]
  },
  {
   "cell_type": "code",
   "execution_count": null,
   "id": "268b6e00",
   "metadata": {},
   "outputs": [],
   "source": [
    "U1_save.shape"
   ]
  },
  {
   "cell_type": "code",
   "execution_count": null,
   "id": "5d087145",
   "metadata": {},
   "outputs": [],
   "source": [
    "U1_snap = NL_state['U1_snap']"
   ]
  },
  {
   "cell_type": "code",
   "execution_count": null,
   "id": "52920507",
   "metadata": {},
   "outputs": [],
   "source": [
    "U1_snap.shape"
   ]
  },
  {
   "cell_type": "code",
   "execution_count": null,
   "id": "46ffe212",
   "metadata": {},
   "outputs": [],
   "source": []
  }
 ],
 "metadata": {
  "kernelspec": {
   "display_name": "Python 3",
   "language": "python",
   "name": "python3"
  },
  "language_info": {
   "codemirror_mode": {
    "name": "ipython",
    "version": 3
   },
   "file_extension": ".py",
   "mimetype": "text/x-python",
   "name": "python",
   "nbconvert_exporter": "python",
   "pygments_lexer": "ipython3",
   "version": "3.8.8"
  }
 },
 "nbformat": 4,
 "nbformat_minor": 5
}
