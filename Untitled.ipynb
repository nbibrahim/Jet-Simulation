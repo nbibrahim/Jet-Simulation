{
 "cells": [
  {
   "cell_type": "code",
   "execution_count": null,
   "id": "bf868de2",
   "metadata": {},
   "outputs": [],
   "source": [
    "import numpy as np\n",
    "import os"
   ]
  },
  {
   "cell_type": "code",
   "execution_count": null,
   "id": "939f9045",
   "metadata": {},
   "outputs": [],
   "source": [
    "%ls"
   ]
  },
  {
   "cell_type": "code",
   "execution_count": null,
   "id": "70aea76c",
   "metadata": {},
   "outputs": [],
   "source": [
    "path = '/Users/josephfitzgerald/Dropbox/EDJ_Paper_Draft/Code_and_Data_NewSub/Planning_Final_NewFig_Calculations/Nsq_100'\n",
    "\n",
    "os.chdir(path)"
   ]
  },
  {
   "cell_type": "code",
   "execution_count": null,
   "id": "31387e53",
   "metadata": {},
   "outputs": [],
   "source": [
    "%cd josephfitzgerald/\n",
    "%ls"
   ]
  },
  {
   "cell_type": "code",
   "execution_count": null,
   "id": "5ab753ad",
   "metadata": {},
   "outputs": [],
   "source": []
  }
 ],
 "metadata": {
  "kernelspec": {
   "display_name": "Python 3",
   "language": "python",
   "name": "python3"
  },
  "language_info": {
   "codemirror_mode": {
    "name": "ipython",
    "version": 3
   },
   "file_extension": ".py",
   "mimetype": "text/x-python",
   "name": "python",
   "nbconvert_exporter": "python",
   "pygments_lexer": "ipython3",
   "version": "3.8.8"
  }
 },
 "nbformat": 4,
 "nbformat_minor": 5
}
